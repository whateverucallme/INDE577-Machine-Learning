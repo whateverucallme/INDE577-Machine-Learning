{
 "cells": [
  {
   "cell_type": "code",
   "execution_count": 24,
   "id": "f8d8fae9",
   "metadata": {},
   "outputs": [],
   "source": [
    "import numpy as np \n",
    "import pandas as pd \n",
    "import matplotlib.pyplot as plt\n",
    "import seaborn as sns"
   ]
  },
  {
   "cell_type": "code",
   "execution_count": 25,
   "id": "207e78d3",
   "metadata": {},
   "outputs": [],
   "source": [
    "data = pd.read_csv('cardata.csv')"
   ]
  },
  {
   "cell_type": "code",
   "execution_count": 27,
   "id": "251e8ee4",
   "metadata": {},
   "outputs": [],
   "source": [
    "X = data[['Selling_Price','Kms_Driven']]\n",
    "y = data['Owner']\n",
    "\n",
    "X= X.to_numpy()\n",
    "y = y.to_numpy ()"
   ]
  },
  {
   "cell_type": "code",
   "execution_count": 33,
   "id": "3a992d4f",
   "metadata": {},
   "outputs": [],
   "source": [
    "from sklearn.model_selection import train_test_split\n",
    "\n",
    "X_train, X_test, y_train, y_test = train_test_split(X, \n",
    "                                                    y,\n",
    "                                                    test_size = 0.4, \n",
    "                                                    random_state = 42)\n"
   ]
  },
  {
   "cell_type": "code",
   "execution_count": 34,
   "id": "a8aa27a9",
   "metadata": {},
   "outputs": [
    {
     "data": {
      "text/plain": [
       "DecisionTreeClassifier(max_depth=15, random_state=42)"
      ]
     },
     "execution_count": 34,
     "metadata": {},
     "output_type": "execute_result"
    }
   ],
   "source": [
    "from sklearn.tree import DecisionTreeClassifier\n",
    "\n",
    "decision_tree = DecisionTreeClassifier(max_depth=15, random_state=42)\n",
    "decision_tree.fit(X_train, y_train)"
   ]
  },
  {
   "cell_type": "code",
   "execution_count": 37,
   "id": "02ad02a2",
   "metadata": {},
   "outputs": [
    {
     "name": "stdout",
     "output_type": "stream",
     "text": [
      "|--- x_0 <= 0.23\n",
      "|   |--- x_1 <= 51000.00\n",
      "|   |   |--- x_0 <= 0.18\n",
      "|   |   |   |--- class: 0\n",
      "|   |   |--- x_0 >  0.18\n",
      "|   |   |   |--- class: 1\n",
      "|   |--- x_1 >  51000.00\n",
      "|   |   |--- class: 0\n",
      "|--- x_0 >  0.23\n",
      "|   |--- x_1 <= 138500.00\n",
      "|   |   |--- x_0 <= 5.28\n",
      "|   |   |   |--- x_0 <= 5.22\n",
      "|   |   |   |   |--- x_0 <= 1.30\n",
      "|   |   |   |   |   |--- class: 0\n",
      "|   |   |   |   |--- x_0 >  1.30\n",
      "|   |   |   |   |   |--- x_0 <= 1.40\n",
      "|   |   |   |   |   |   |--- x_1 <= 19100.00\n",
      "|   |   |   |   |   |   |   |--- class: 1\n",
      "|   |   |   |   |   |   |--- x_1 >  19100.00\n",
      "|   |   |   |   |   |   |   |--- class: 0\n",
      "|   |   |   |   |   |--- x_0 >  1.40\n",
      "|   |   |   |   |   |   |--- x_1 <= 35820.50\n",
      "|   |   |   |   |   |   |   |--- class: 0\n",
      "|   |   |   |   |   |   |--- x_1 >  35820.50\n",
      "|   |   |   |   |   |   |   |--- x_1 <= 35933.00\n",
      "|   |   |   |   |   |   |   |   |--- class: 1\n",
      "|   |   |   |   |   |   |   |--- x_1 >  35933.00\n",
      "|   |   |   |   |   |   |   |   |--- x_1 <= 39742.50\n",
      "|   |   |   |   |   |   |   |   |   |--- x_1 <= 39242.50\n",
      "|   |   |   |   |   |   |   |   |   |   |--- class: 0\n",
      "|   |   |   |   |   |   |   |   |   |--- x_1 >  39242.50\n",
      "|   |   |   |   |   |   |   |   |   |   |--- class: 1\n",
      "|   |   |   |   |   |   |   |   |--- x_1 >  39742.50\n",
      "|   |   |   |   |   |   |   |   |   |--- x_0 <= 3.35\n",
      "|   |   |   |   |   |   |   |   |   |   |--- x_0 <= 3.12\n",
      "|   |   |   |   |   |   |   |   |   |   |   |--- class: 0\n",
      "|   |   |   |   |   |   |   |   |   |   |--- x_0 >  3.12\n",
      "|   |   |   |   |   |   |   |   |   |   |   |--- class: 1\n",
      "|   |   |   |   |   |   |   |   |   |--- x_0 >  3.35\n",
      "|   |   |   |   |   |   |   |   |   |   |--- class: 0\n",
      "|   |   |   |--- x_0 >  5.22\n",
      "|   |   |   |   |--- x_1 <= 10246.50\n",
      "|   |   |   |   |   |--- class: 1\n",
      "|   |   |   |   |--- x_1 >  10246.50\n",
      "|   |   |   |   |   |--- class: 0\n",
      "|   |   |--- x_0 >  5.28\n",
      "|   |   |   |--- class: 0\n",
      "|   |--- x_1 >  138500.00\n",
      "|   |   |--- x_1 <= 177500.00\n",
      "|   |   |   |--- class: 3\n",
      "|   |   |--- x_1 >  177500.00\n",
      "|   |   |   |--- class: 0\n",
      " \n",
      "\n"
     ]
    }
   ],
   "source": [
    "from sklearn.tree import plot_tree\n",
    "from sklearn.tree import export_text\n",
    "\n",
    "tree_rules = export_text(decision_tree,\n",
    "                         feature_names = [\"x_0\", \"x_1\"])\n",
    "print(tree_rules, \"\\n\")"
   ]
  },
  {
   "cell_type": "code",
   "execution_count": null,
   "id": "d46088d3",
   "metadata": {},
   "outputs": [],
   "source": []
  },
  {
   "cell_type": "code",
   "execution_count": null,
   "id": "4ce6e64d",
   "metadata": {},
   "outputs": [],
   "source": []
  },
  {
   "cell_type": "code",
   "execution_count": null,
   "id": "ca378339",
   "metadata": {},
   "outputs": [],
   "source": []
  }
 ],
 "metadata": {
  "kernelspec": {
   "display_name": "Python 3",
   "language": "python",
   "name": "python3"
  },
  "language_info": {
   "codemirror_mode": {
    "name": "ipython",
    "version": 3
   },
   "file_extension": ".py",
   "mimetype": "text/x-python",
   "name": "python",
   "nbconvert_exporter": "python",
   "pygments_lexer": "ipython3",
   "version": "3.8.8"
  }
 },
 "nbformat": 4,
 "nbformat_minor": 5
}
